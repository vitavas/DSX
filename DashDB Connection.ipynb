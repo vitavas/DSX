{
    "metadata": {
        "kernelspec": {
            "language": "python", 
            "display_name": "Python 2 with Spark 2.0", 
            "name": "python2-spark20"
        }, 
        "language_info": {
            "nbconvert_exporter": "python", 
            "name": "python", 
            "pygments_lexer": "ipython2", 
            "version": "2.7.11", 
            "file_extension": ".py", 
            "codemirror_mode": {
                "version": 2, 
                "name": "ipython"
            }, 
            "mimetype": "text/x-python"
        }
    }, 
    "nbformat": 4, 
    "cells": [
        {
            "execution_count": 1, 
            "metadata": {
                "collapsed": true
            }, 
            "cell_type": "code", 
            "outputs": [], 
            "source": "# The code was removed by DSX for sharing."
        }, 
        {
            "execution_count": 2, 
            "metadata": {
                "collapsed": true
            }, 
            "cell_type": "code", 
            "outputs": [], 
            "source": "import pandas as pd\nimport numpy as np"
        }, 
        {
            "execution_count": 8, 
            "metadata": {}, 
            "cell_type": "code", 
            "outputs": [
                {
                    "execution_count": 8, 
                    "metadata": {}, 
                    "data": {
                        "text/html": "<div>\n<table border=\"1\" class=\"dataframe\">\n  <thead>\n    <tr style=\"text-align: right;\">\n      <th></th>\n      <th>a</th>\n      <th>b</th>\n      <th>c</th>\n      <th>d</th>\n    </tr>\n  </thead>\n  <tbody>\n    <tr>\n      <th>0</th>\n      <td>0.370332</td>\n      <td>0.862227</td>\n      <td>0.856995</td>\n      <td>0.821802</td>\n    </tr>\n    <tr>\n      <th>1</th>\n      <td>0.208014</td>\n      <td>0.659936</td>\n      <td>0.147316</td>\n      <td>0.595018</td>\n    </tr>\n    <tr>\n      <th>2</th>\n      <td>0.084962</td>\n      <td>0.872089</td>\n      <td>0.124575</td>\n      <td>0.979851</td>\n    </tr>\n    <tr>\n      <th>3</th>\n      <td>0.980699</td>\n      <td>0.220567</td>\n      <td>0.592497</td>\n      <td>0.550980</td>\n    </tr>\n    <tr>\n      <th>4</th>\n      <td>0.472739</td>\n      <td>0.004235</td>\n      <td>0.114902</td>\n      <td>0.197167</td>\n    </tr>\n  </tbody>\n</table>\n</div>", 
                        "text/plain": "          a         b         c         d\n0  0.370332  0.862227  0.856995  0.821802\n1  0.208014  0.659936  0.147316  0.595018\n2  0.084962  0.872089  0.124575  0.979851\n3  0.980699  0.220567  0.592497  0.550980\n4  0.472739  0.004235  0.114902  0.197167"
                    }, 
                    "output_type": "execute_result"
                }
            ], 
            "source": "random_data = pd.DataFrame(np.random.random((1000,4)),columns = ['a','b','c','d'])\nrandom_data.head()"
        }, 
        {
            "execution_count": null, 
            "metadata": {
                "collapsed": true
            }, 
            "cell_type": "code", 
            "outputs": [], 
            "source": ""
        }, 
        {
            "metadata": {}, 
            "cell_type": "markdown", 
            "source": ""
        }
    ], 
    "nbformat_minor": 1
}